{
  "nbformat": 4,
  "nbformat_minor": 0,
  "metadata": {
    "colab": {
      "name": "PYTHON TASK 0.ipynb",
      "provenance": [],
      "authorship_tag": "ABX9TyM829e/+4m0Yk35ZWeTyOwZ",
      "include_colab_link": true
    },
    "kernelspec": {
      "name": "python3",
      "display_name": "Python 3"
    }
  },
  "cells": [
    {
      "cell_type": "markdown",
      "metadata": {
        "id": "view-in-github",
        "colab_type": "text"
      },
      "source": [
        "<a href=\"https://colab.research.google.com/github/Akanksha6666/spectrumCET/blob/master/PYTHON_TASK_0.ipynb\" target=\"_parent\"><img src=\"https://colab.research.google.com/assets/colab-badge.svg\" alt=\"Open In Colab\"/></a>"
      ]
    },
    {
      "cell_type": "markdown",
      "metadata": {
        "id": "n7nxxlXPgEFP",
        "colab_type": "text"
      },
      "source": [
        "TASK 0 OF SPECTRUM CET"
      ]
    },
    {
      "cell_type": "code",
      "metadata": {
        "id": "oBVAB1FNf4Kq",
        "colab_type": "code",
        "colab": {}
      },
      "source": [
        "#QUESTION-1:Program to accept two integers and return their pdt,if pdt is greater than 1000 then return their sum\n",
        "def multiplication_or_sum(num1, num2):\n",
        "  product = num1 *num2\n",
        "  if(product <= 1000):\n",
        "    return product\n",
        "  else:\n",
        "    return num1 +num2\n",
        "\n",
        "number1 = int(input(\"Enter first number \"))\n",
        "number2 = int(input(\"Enter second number\"))\n",
        "\n",
        "result = multiplication_or_sum(number1, number2)\n",
        "print(\"The result is\", result)\n",
        "\n",
        "#QUESTION-2:Program to calculate the sum of n Natural Numbers\n",
        "num = int(input(\"Enter the value of n: \"))\n",
        "hold = num\n",
        "sum = 0\n",
        "\n",
        "if num <= 0: \n",
        "   print(\"Enter a whole positive number!\") \n",
        "else: \n",
        "   while num > 0:\n",
        "        sum = sum + num\n",
        "        num = num - 1;\n",
        "   print(\"Sum of first\", hold, \"natural numbers is: \", sum)\n",
        "   \n",
        "#QUESTION-4:Program to count the total no.of.digits in a given number\n",
        "n=int(input(\"Enter number:\"))\n",
        "count=0\n",
        "while(n>0):\n",
        "    count=count+1\n",
        "    n=n//10\n",
        "print(\"The number of digits in the number are:\",count)\n",
        "\n",
        "#QUESTION-5:Program to accept string and show only those characters present at an even index\n",
        "def printEveIndexChar(str):\n",
        "  for i in range(0, len(str)-1, 2):\n",
        "    print(\"index[\",i,\"]\", str[i] )\n",
        "inputStr = input(\"Enter String \")\n",
        "print(\"Orginal String is \", inputStr)\n",
        "print(\"Printing only even index chars\")\n",
        "printEveIndexChar(inputStr)\n",
        "\n",
        "#QUESTION-6:Program to print all prime no between a given interval and also check if the given no is prime or not\n",
        " \n",
        "lower = int(input(\"Enter lower range: \"))  \n",
        "upper = int(input(\"Enter upper range: \"))  \n",
        "  \n",
        "for num in range(lower,upper + 1):  \n",
        "   if num > 1:  \n",
        "       for i in range(2,num):  \n",
        "           if (num % i) == 0:  \n",
        "               break  \n",
        "       else: \n",
        "           print(num) \n",
        "           \n",
        "n = int(input(\"Enter a number: \"))  \n",
        "  \n",
        "if n > 1:  \n",
        "   for i in range(2,n):  \n",
        "       if (n % i) == 0:  \n",
        "           print(n,\"is not a prime number\")  \n",
        "             \n",
        "           break  \n",
        "   else:  \n",
        "       print(n,\"is a prime number\")  \n",
        "         \n",
        "else:  \n",
        "   print(n,\"is not a prime number\")    \n",
        "\n",
        "#Question-7:Program to display the Fibonacci sequence up to n-th term\n",
        "nterms = int(input(\"How many terms? \"))\n",
        "\n",
        "# first two terms\n",
        "n1, n2 = 0, 1\n",
        "count = 0\n",
        "\n",
        "#Question-8:Program to check if the number of terms is valid\n",
        "if nterms <= 0:\n",
        "   print(\"Please enter a positive integer\")\n",
        "elif nterms == 1:\n",
        "   print(\"Fibonacci sequence upto\",nterms,\":\")\n",
        "   print(n1)\n",
        "else:\n",
        "   print(\"Fibonacci sequence:\")\n",
        "   while count < nterms:\n",
        "       print(n1)\n",
        "       nth = n1 + n2\n",
        "       n1 = n2\n",
        "       n2 = nth\n",
        "       count += 1\n",
        "    "
      ],
      "execution_count": 0,
      "outputs": []
    }
  ]
}